{
 "cells": [
  {
   "cell_type": "markdown",
   "metadata": {
    "deletable": true,
    "editable": true
   },
   "source": [
    "# トレンドデータの読み込みと表示"
   ]
  },
  {
   "cell_type": "code",
   "execution_count": null,
   "metadata": {
    "collapsed": true,
    "deletable": true,
    "editable": true
   },
   "outputs": [],
   "source": [
    "import pandas as pd\n",
    "import matplotlib.pyplot as plt"
   ]
  },
  {
   "cell_type": "code",
   "execution_count": null,
   "metadata": {
    "collapsed": true,
    "deletable": true,
    "editable": true
   },
   "outputs": [],
   "source": [
    "%matplotlib inline"
   ]
  },
  {
   "cell_type": "code",
   "execution_count": null,
   "metadata": {
    "collapsed": false,
    "deletable": true,
    "editable": true
   },
   "outputs": [],
   "source": [
    "def read_TrendExpData(fname):\n",
    "    f=open(fname,\"r\", encoding=\"utf-8\")\n",
    "    f.readline() # [Read Name]行をスキップ\n",
    "    file_name=f.readline().rstrip() #元のファイル名を読み込み\n",
    "    f.readline() # 空行をスキップ\n",
    "    f.readline() # [Data Description]行をスキップ\n",
    "    n=int(f.readline().split('=')[-1]) # n:項目数をGET\n",
    "    name = ['Time'] # timeカラム名を設定\n",
    "    # ラベルを読み込む\n",
    "    for i in range(n):\n",
    "        '''\n",
    "        フォーマット　Item # 1 style    0  => (1) Ar [Unit] None\n",
    "        のうち，'=>'の右側だけ取り出し,改行を除いて,ラベルと単位のリストにする\n",
    "        '''\n",
    "        item = f.readline().split('=>')[-1].rstrip().split('[Unit]') \n",
    "        name.append(item[0]) #ラベルのみ取り出し\n",
    "    f.close()\n",
    "    name.append('dummy') #ダミーラベルを追加\n",
    "    data = pd.read_table('test.exp',index_col=0, skiprows=n+7,header=None,sep=r'\\t|\\|',engine='python',names=name)\n",
    "    data = data.drop('dummy',axis=1)  # ダミー列を削除\n",
    "    time = [int(x[0])/1000.0 for x in data['Time'].str.split()] #Time列を文字列から秒単位へ変換\n",
    "    data = data.drop('Time',axis=1)\n",
    "    return time, data"
   ]
  },
  {
   "cell_type": "code",
   "execution_count": null,
   "metadata": {
    "collapsed": false,
    "deletable": true,
    "editable": true
   },
   "outputs": [],
   "source": [
    "def PlotTrendExpData(time,data):\n",
    "    n = len(data.columns)\n",
    "    fig, axes=plt.subplots(n,1,sharex=True)\n",
    "    for i in range(n):\n",
    "        axes[i].plot(time,data.ix[:,i],label=data.columns[i])\n",
    "        axes[i].legend(loc='best')\n",
    "    axes[n-1].set_xlabel('Time')"
   ]
  },
  {
   "cell_type": "code",
   "execution_count": null,
   "metadata": {
    "collapsed": false,
    "deletable": true,
    "editable": true
   },
   "outputs": [],
   "source": [
    "time,data = read_TrendExpData('test.exp')"
   ]
  },
  {
   "cell_type": "code",
   "execution_count": null,
   "metadata": {
    "collapsed": false,
    "deletable": true,
    "editable": true
   },
   "outputs": [],
   "source": [
    "PlotTrendExpData(time, data)"
   ]
  },
  {
   "cell_type": "code",
   "execution_count": null,
   "metadata": {
    "collapsed": true,
    "deletable": true,
    "editable": true
   },
   "outputs": [],
   "source": []
  }
 ],
 "metadata": {
  "kernelspec": {
   "display_name": "Python 3",
   "language": "python",
   "name": "python3"
  },
  "language_info": {
   "codemirror_mode": {
    "name": "ipython",
    "version": 3
   },
   "file_extension": ".py",
   "mimetype": "text/x-python",
   "name": "python",
   "nbconvert_exporter": "python",
   "pygments_lexer": "ipython3",
   "version": "3.4.2"
  }
 },
 "nbformat": 4,
 "nbformat_minor": 2
}
